{
  "nbformat": 4,
  "nbformat_minor": 0,
  "metadata": {
    "colab": {
      "provenance": []
    },
    "kernelspec": {
      "name": "python3",
      "display_name": "Python 3"
    },
    "language_info": {
      "name": "python"
    }
  },
  "cells": [
    {
      "cell_type": "code",
      "source": [
        "#imports\n",
        "import sys\n",
        "from google.colab import drive\n",
        "import pandas as pd\n",
        "from sklearn.model_selection import train_test_split\n",
        "from sklearn.preprocessing import MinMaxScaler\n",
        "import gc\n",
        "import tensorflow as tf\n",
        "from tensorflow.keras.models import Sequential\n",
        "from tensorflow.keras.layers import Dense, Dropout\n",
        "from sklearn.metrics import accuracy_score, precision_score, recall_score, f1_score, confusion_matrix, roc_curve, roc_auc_score\n",
        "from tensorflow.keras.metrics import Precision, Recall\n",
        "from sklearn.base import BaseEstimator, TransformerMixin\n",
        "from sklearn.pipeline import Pipeline\n",
        "from sklearn.compose import ColumnTransformer\n",
        "from sklearn.impute import SimpleImputer\n",
        "from sklearn.preprocessing import LabelEncoder, StandardScaler\n",
        "from sklearn.linear_model import LogisticRegression\n",
        "from sklearn.metrics import classification_report\n",
        "from sklearn.model_selection import GridSearchCV, RepeatedStratifiedKFold\n",
        "from sklearn.preprocessing import OrdinalEncoder"
      ],
      "metadata": {
        "id": "0wO3c2vUviq1"
      },
      "execution_count": 1,
      "outputs": []
    },
    {
      "cell_type": "markdown",
      "source": [
        "# Zadanie rekrutacyjne Onwel"
      ],
      "metadata": {
        "id": "s-Gt8IVZtY7P"
      }
    },
    {
      "cell_type": "markdown",
      "source": [
        "## Treść Zadania:\n",
        "\n",
        "1. Skopiuj repozytorium na swoją maszynę: ML_Academy. Wczytaj projekt na\n",
        "swoje konto git.\n",
        "2. Wczytaj zbiór danych, nadaj labelki, ustal taktykę dzielnia zbioru do\n",
        "treningu.\n",
        "3. Zbuduj pipeline przygotowujący dane do treningu / predykcji\n",
        "4. Wytrenuj model / modele\n",
        "5. Wybierz i przedstaw metryki ewaluacji modelu\n",
        "6. Przedstaw i opisz, jak model będzie sobie radził na danych\n",
        "&quot;produkcyjnych&quot; (takich, które nie były dostępne na czas treningu /\n",
        "ewaluacji)"
      ],
      "metadata": {
        "id": "_shKrapXtf1y"
      }
    },
    {
      "cell_type": "markdown",
      "source": [
        "## 1. Adres repozytorium - https://github.com/MarcinosP/onwel"
      ],
      "metadata": {
        "id": "Ei_K0kc8ttHc"
      }
    },
    {
      "cell_type": "markdown",
      "source": [
        "## 2. Wczytaj zbiór danych, nadaj labelki, ustal taktykę dzielnia zbioru do treningu."
      ],
      "metadata": {
        "id": "LqdvETXoumXX"
      }
    },
    {
      "cell_type": "markdown",
      "source": [
        "### połączenie z dyskiem google"
      ],
      "metadata": {
        "id": "lRBnKDm4utL1"
      }
    },
    {
      "cell_type": "code",
      "source": [
        "drive.mount('/content/drive')\n",
        "path_nb = r'/content/drive/My Drive/Colab Notebooks/onwel'\n",
        "sys.path.append(path_nb)"
      ],
      "metadata": {
        "colab": {
          "base_uri": "https://localhost:8080/"
        },
        "id": "PgmeVqMhutvZ",
        "outputId": "716f3883-596e-41a1-e5d6-33f694da036a"
      },
      "execution_count": 2,
      "outputs": [
        {
          "output_type": "stream",
          "name": "stdout",
          "text": [
            "Mounted at /content/drive\n"
          ]
        }
      ]
    },
    {
      "cell_type": "markdown",
      "source": [
        "### wczytanie danych"
      ],
      "metadata": {
        "id": "X9MsqaFxvOVn"
      }
    },
    {
      "cell_type": "code",
      "source": [
        "benign_data = pd.read_csv(path_nb+'/CSV_benign.csv')\n",
        "malware_data = pd.read_csv(path_nb+'/CSV_malware.csv')\n",
        "\n",
        "benign_data['label'] = 0\n",
        "malware_data['label'] = 1\n",
        "\n",
        "combined_data = pd.concat([benign_data, malware_data], ignore_index=True)"
      ],
      "metadata": {
        "id": "os-cDuhTvR0f",
        "colab": {
          "base_uri": "https://localhost:8080/"
        },
        "outputId": "d8047e22-8628-44a4-f369-66640db3086e"
      },
      "execution_count": 3,
      "outputs": [
        {
          "output_type": "stream",
          "name": "stderr",
          "text": [
            "<ipython-input-3-bd33dea8286b>:1: DtypeWarning: Columns (9,10,12,13,17,18,20,21,24,25,27,28,36) have mixed types. Specify dtype option on import or set low_memory=False.\n",
            "  benign_data = pd.read_csv(path_nb+'/CSV_benign.csv')\n"
          ]
        }
      ]
    },
    {
      "cell_type": "markdown",
      "source": [
        "### sprawdzenie ile zbiór danych zawiera wartości null, zastąpenie wartości null dla cech tesktowych wartością \"unkown\" a dla cech numerycznych najczęściej występującą wartością"
      ],
      "metadata": {
        "id": "n3FPOaUOwOVf"
      }
    },
    {
      "cell_type": "code",
      "source": [
        "missing_values = combined_data.isnull().sum()\n",
        "\n",
        "missing_values"
      ],
      "metadata": {
        "colab": {
          "base_uri": "https://localhost:8080/"
        },
        "id": "TU3Y4JR4HLOr",
        "outputId": "e39f4237-d3b8-434f-8ba4-9ef753be3b8e"
      },
      "execution_count": 4,
      "outputs": [
        {
          "output_type": "execute_result",
          "data": {
            "text/plain": [
              "Country               109887\n",
              "ASN                   109830\n",
              "TTL                        0\n",
              "IP                    108596\n",
              "Domain                     0\n",
              "State                 278997\n",
              "Registrant_Name       485424\n",
              "Country.1             242151\n",
              "Creation_Date_Time    133088\n",
              "hex_32                   123\n",
              "hex_8                      0\n",
              "Domain_Name            97728\n",
              "Alexa_Rank             54418\n",
              "subdomain                 16\n",
              "Organization          295105\n",
              "len                      358\n",
              "longest_word             133\n",
              "oc_32                      3\n",
              "shortened               1345\n",
              "1gram                     22\n",
              "obfuscate_at_sign          0\n",
              "entropy                    4\n",
              "Domain_Age             54414\n",
              "tld                        3\n",
              "dec_8                     10\n",
              "dec_32                    94\n",
              "Emails                172234\n",
              "numeric_percentage       789\n",
              "puny_coded                 0\n",
              "typos                      0\n",
              "oc_8                       0\n",
              "3gram                      0\n",
              "char_distribution          0\n",
              "2gram                    187\n",
              "Registrar             141239\n",
              "sld                     1329\n",
              "Name_Server_Count      54454\n",
              "Page_Rank              54917\n",
              "label                      0\n",
              "dtype: int64"
            ]
          },
          "metadata": {},
          "execution_count": 4
        }
      ]
    },
    {
      "cell_type": "code",
      "source": [
        "text_columns = combined_data.select_dtypes(include=['object']).columns\n",
        "combined_data[text_columns] = combined_data[text_columns].fillna(\"unknown\")\n",
        "\n",
        "numeric_columns = combined_data.select_dtypes(include=['float64', 'int64']).columns\n",
        "for col in numeric_columns:\n",
        "    mode_val = combined_data[col].mode()[0]\n",
        "    combined_data[col].fillna(mode_val, inplace=True)"
      ],
      "metadata": {
        "id": "7py2WjqVw9Iv"
      },
      "execution_count": 5,
      "outputs": []
    },
    {
      "cell_type": "code",
      "source": [
        "missing_values = combined_data.isnull().sum()\n",
        "\n",
        "missing_values"
      ],
      "metadata": {
        "colab": {
          "base_uri": "https://localhost:8080/"
        },
        "id": "9Pdvw9fcHQtp",
        "outputId": "99a54828-fd6d-47e2-c2e8-93acab0aa7d3"
      },
      "execution_count": 6,
      "outputs": [
        {
          "output_type": "execute_result",
          "data": {
            "text/plain": [
              "Country               0\n",
              "ASN                   0\n",
              "TTL                   0\n",
              "IP                    0\n",
              "Domain                0\n",
              "State                 0\n",
              "Registrant_Name       0\n",
              "Country.1             0\n",
              "Creation_Date_Time    0\n",
              "hex_32                0\n",
              "hex_8                 0\n",
              "Domain_Name           0\n",
              "Alexa_Rank            0\n",
              "subdomain             0\n",
              "Organization          0\n",
              "len                   0\n",
              "longest_word          0\n",
              "oc_32                 0\n",
              "shortened             0\n",
              "1gram                 0\n",
              "obfuscate_at_sign     0\n",
              "entropy               0\n",
              "Domain_Age            0\n",
              "tld                   0\n",
              "dec_8                 0\n",
              "dec_32                0\n",
              "Emails                0\n",
              "numeric_percentage    0\n",
              "puny_coded            0\n",
              "typos                 0\n",
              "oc_8                  0\n",
              "3gram                 0\n",
              "char_distribution     0\n",
              "2gram                 0\n",
              "Registrar             0\n",
              "sld                   0\n",
              "Name_Server_Count     0\n",
              "Page_Rank             0\n",
              "label                 0\n",
              "dtype: int64"
            ]
          },
          "metadata": {},
          "execution_count": 6
        }
      ]
    },
    {
      "cell_type": "markdown",
      "source": [
        "### Użycie label encoding na wartościach tekstowych."
      ],
      "metadata": {
        "id": "Z0eKxXngzca8"
      }
    },
    {
      "cell_type": "code",
      "source": [
        "unique_values_counts = combined_data.nunique()\n",
        "unique_values_counts"
      ],
      "metadata": {
        "colab": {
          "base_uri": "https://localhost:8080/"
        },
        "id": "m8Flva3V0Xz9",
        "outputId": "ac1d8a5e-6ed4-4139-a065-507f22d0d2d9"
      },
      "execution_count": 7,
      "outputs": [
        {
          "output_type": "execute_result",
          "data": {
            "text/plain": [
              "Country                  285\n",
              "ASN                    10356\n",
              "TTL                    12864\n",
              "IP                    177855\n",
              "Domain                313538\n",
              "State                   5813\n",
              "Registrant_Name         4203\n",
              "Country.1               1620\n",
              "Creation_Date_Time    145659\n",
              "hex_32                   124\n",
              "hex_8                     20\n",
              "Domain_Name           195952\n",
              "Alexa_Rank            115298\n",
              "subdomain                184\n",
              "Organization           39736\n",
              "len                      515\n",
              "longest_word           34203\n",
              "oc_32                   7205\n",
              "shortened                 98\n",
              "1gram                 211753\n",
              "obfuscate_at_sign      13505\n",
              "entropy                 4658\n",
              "Domain_Age            333589\n",
              "tld                    31786\n",
              "dec_8                     77\n",
              "dec_32                   164\n",
              "Emails                 44745\n",
              "numeric_percentage      9959\n",
              "puny_coded               190\n",
              "typos                  30268\n",
              "oc_8                     926\n",
              "3gram                 210746\n",
              "char_distribution     284881\n",
              "2gram                 229924\n",
              "Registrar              17290\n",
              "sld                   177014\n",
              "Name_Server_Count      50781\n",
              "Page_Rank                 30\n",
              "label                      2\n",
              "dtype: int64"
            ]
          },
          "metadata": {},
          "execution_count": 7
        }
      ]
    },
    {
      "cell_type": "code",
      "source": [
        "column_data_types = combined_data.dtypes\n",
        "column_data_types"
      ],
      "metadata": {
        "colab": {
          "base_uri": "https://localhost:8080/"
        },
        "id": "ifsfmtkT4_cz",
        "outputId": "0357c290-e5e2-4bbf-a6d0-be01ece479c7"
      },
      "execution_count": 8,
      "outputs": [
        {
          "output_type": "execute_result",
          "data": {
            "text/plain": [
              "Country                object\n",
              "ASN                   float64\n",
              "TTL                    object\n",
              "IP                     object\n",
              "Domain                 object\n",
              "State                  object\n",
              "Registrant_Name        object\n",
              "Country.1              object\n",
              "Creation_Date_Time     object\n",
              "hex_32                 object\n",
              "hex_8                  object\n",
              "Domain_Name            object\n",
              "Alexa_Rank             object\n",
              "subdomain              object\n",
              "Organization           object\n",
              "len                    object\n",
              "longest_word           object\n",
              "oc_32                  object\n",
              "shortened              object\n",
              "1gram                  object\n",
              "obfuscate_at_sign      object\n",
              "entropy                object\n",
              "Domain_Age             object\n",
              "tld                    object\n",
              "dec_8                  object\n",
              "dec_32                 object\n",
              "Emails                 object\n",
              "numeric_percentage     object\n",
              "puny_coded             object\n",
              "typos                  object\n",
              "oc_8                   object\n",
              "3gram                  object\n",
              "char_distribution      object\n",
              "2gram                  object\n",
              "Registrar              object\n",
              "sld                    object\n",
              "Name_Server_Count      object\n",
              "Page_Rank             float64\n",
              "label                   int64\n",
              "dtype: object"
            ]
          },
          "metadata": {},
          "execution_count": 8
        }
      ]
    },
    {
      "cell_type": "code",
      "source": [
        "categorical_columns_all = combined_data.select_dtypes(include=['object']).columns.tolist()\n",
        "\n",
        "label_encoders_combined = {}\n",
        "\n",
        "for col in categorical_columns_all:\n",
        "    le = LabelEncoder()\n",
        "    combined_data[col] = le.fit_transform(combined_data[col].astype(str))\n",
        "    label_encoders_combined[col] = le"
      ],
      "metadata": {
        "id": "SP6V3HLB7Q6U"
      },
      "execution_count": 9,
      "outputs": []
    },
    {
      "cell_type": "code",
      "source": [
        "combined_data_cleaned = combined_data.drop(columns=categorical_columns_all)\n",
        "final_combined_data = pd.concat([combined_data_cleaned, combined_data[categorical_columns_all]], axis=1)"
      ],
      "metadata": {
        "id": "sYJptb-h9_Qb"
      },
      "execution_count": 10,
      "outputs": []
    },
    {
      "cell_type": "markdown",
      "source": [
        "### Normalizacja danych za pomocą min max scaler do wartości od 0 do 1"
      ],
      "metadata": {
        "id": "4iSVVsvWJygC"
      }
    },
    {
      "cell_type": "code",
      "source": [
        "scaler = MinMaxScaler()\n",
        "scaled_data = scaler.fit_transform(final_combined_data.drop(columns='label'))\n",
        "final_combined_scaled_data = pd.DataFrame(scaled_data, columns=final_combined_data.drop(columns='label').columns)"
      ],
      "metadata": {
        "id": "LeyejicOJ2kb"
      },
      "execution_count": 11,
      "outputs": []
    },
    {
      "cell_type": "markdown",
      "source": [
        "### Podział danych na testowe i treningowe 80:20 z użyciem stratify które pomaga zachować rozkład klas w zbiorach testowych i treningowych"
      ],
      "metadata": {
        "id": "zW1hsXJt8RhL"
      }
    },
    {
      "cell_type": "code",
      "source": [
        "X = final_combined_scaled_data\n",
        "y = final_combined_data['label']\n",
        "\n",
        "X_train, X_test, y_train, y_test = train_test_split(X, y, test_size=0.2, random_state=42, stratify=y)"
      ],
      "metadata": {
        "id": "qjDeB91w8M-P"
      },
      "execution_count": 12,
      "outputs": []
    },
    {
      "cell_type": "markdown",
      "source": [
        "## 4. trenowanie modeli"
      ],
      "metadata": {
        "id": "qGb8kMCFJCz5"
      }
    },
    {
      "cell_type": "code",
      "source": [
        "n_features = final_combined_scaled_data.shape[1]\n",
        "\n",
        "model = Sequential()\n",
        "model.add(Dense(128, activation='relu', input_shape=(n_features,)))\n",
        "model.add(Dropout(0.5))\n",
        "model.add(Dense(64, activation='relu'))\n",
        "model.add(Dropout(0.5))\n",
        "model.add(Dense(1, activation='sigmoid'))"
      ],
      "metadata": {
        "id": "EJvDr8G3JFl1"
      },
      "execution_count": 13,
      "outputs": []
    },
    {
      "cell_type": "code",
      "source": [
        "model.compile(optimizer='adam', loss='binary_crossentropy', metrics=['accuracy'])"
      ],
      "metadata": {
        "id": "_xJvQ-8zN5py"
      },
      "execution_count": 14,
      "outputs": []
    },
    {
      "cell_type": "code",
      "source": [
        "history = model.fit(X_train, y_train, epochs=10, batch_size=32)"
      ],
      "metadata": {
        "colab": {
          "base_uri": "https://localhost:8080/"
        },
        "id": "FKdRQ5pvN-5r",
        "outputId": "596ee8fb-9498-48e9-b2ee-89a5485992eb"
      },
      "execution_count": 15,
      "outputs": [
        {
          "output_type": "stream",
          "name": "stdout",
          "text": [
            "Epoch 1/10\n",
            "12479/12479 [==============================] - 29s 2ms/step - loss: 0.0533 - accuracy: 0.9898\n",
            "Epoch 2/10\n",
            "12479/12479 [==============================] - 26s 2ms/step - loss: 0.0453 - accuracy: 0.9902\n",
            "Epoch 3/10\n",
            "12479/12479 [==============================] - 25s 2ms/step - loss: 0.0432 - accuracy: 0.9902\n",
            "Epoch 4/10\n",
            "12479/12479 [==============================] - 26s 2ms/step - loss: 0.0420 - accuracy: 0.9904\n",
            "Epoch 5/10\n",
            "12479/12479 [==============================] - 27s 2ms/step - loss: 0.0416 - accuracy: 0.9904\n",
            "Epoch 6/10\n",
            "12479/12479 [==============================] - 26s 2ms/step - loss: 0.0414 - accuracy: 0.9904\n",
            "Epoch 7/10\n",
            "12479/12479 [==============================] - 26s 2ms/step - loss: 0.0411 - accuracy: 0.9904\n",
            "Epoch 8/10\n",
            "12479/12479 [==============================] - 26s 2ms/step - loss: 0.0408 - accuracy: 0.9905\n",
            "Epoch 9/10\n",
            "12479/12479 [==============================] - 26s 2ms/step - loss: 0.0407 - accuracy: 0.9904\n",
            "Epoch 10/10\n",
            "12479/12479 [==============================] - 26s 2ms/step - loss: 0.0405 - accuracy: 0.9905\n"
          ]
        }
      ]
    },
    {
      "cell_type": "code",
      "source": [
        "predictions = model.predict(X_test)"
      ],
      "metadata": {
        "colab": {
          "base_uri": "https://localhost:8080/"
        },
        "id": "Tfvk6oA5Pud6",
        "outputId": "5ec4531a-b3ba-4550-aa1d-76b56dcc767e"
      },
      "execution_count": 16,
      "outputs": [
        {
          "output_type": "stream",
          "name": "stdout",
          "text": [
            "3120/3120 [==============================] - 4s 1ms/step\n"
          ]
        }
      ]
    },
    {
      "cell_type": "code",
      "source": [
        "binary_predictions = (predictions > 0.5).astype(int)"
      ],
      "metadata": {
        "id": "Q_Yv0EQ3Q-v4"
      },
      "execution_count": 17,
      "outputs": []
    },
    {
      "cell_type": "code",
      "source": [
        "accuracy = accuracy_score(y_test, binary_predictions)\n",
        "print(f\"accuracy {accuracy} \")\n",
        "\n",
        "precision = precision_score(y_test, binary_predictions)\n",
        "print(f\"precision {precision} \")\n",
        "\n",
        "recall = recall_score(y_test, binary_predictions)\n",
        "print(f\"recall {recall} \")\n",
        "\n",
        "f1 = f1_score(y_test, binary_predictions)\n",
        "print(f\"f1 {f1} \")\n",
        "\n",
        "conf_matrix = confusion_matrix(y_test, binary_predictions)\n",
        "print(f\"conf_matrix {conf_matrix} \")"
      ],
      "metadata": {
        "colab": {
          "base_uri": "https://localhost:8080/"
        },
        "id": "i7KvocQTP4Ya",
        "outputId": "a0cdf499-494b-4802-ca65-8e717ef5e476"
      },
      "execution_count": 18,
      "outputs": [
        {
          "output_type": "stream",
          "name": "stdout",
          "text": [
            "accuracy 0.9907840564176025 \n",
            "precision 0.9545454545454546 \n",
            "recall 0.084 \n",
            "f1 0.15441176470588236 \n",
            "conf_matrix [[98823     4]\n",
            " [  916    84]] \n"
          ]
        }
      ]
    },
    {
      "cell_type": "markdown",
      "source": [
        "### z recall, f1 score i macierzy pomyłek  możemy odczytać że model sklasyfikował zdecydowaną większość jako \"benign\" wynika to z nierównomiernej dystrybucji klas.\n",
        "\n",
        "###Dlatego poniżej powtórzę powyższe kroki wyrównując dystrybucje klas poprzez powielenie danych które są wirusami tyle aż razy dystrybucja klas będzie taka sama, jedynie dla danych treningowych"
      ],
      "metadata": {
        "id": "crt838JuTS1o"
      }
    },
    {
      "cell_type": "code",
      "source": [
        "oversampled_data = pd.concat([benign_data, malware_data], ignore_index=True)"
      ],
      "metadata": {
        "id": "bynKaTocBFYk"
      },
      "execution_count": 19,
      "outputs": []
    },
    {
      "cell_type": "code",
      "source": [
        "text_columns = oversampled_data.select_dtypes(include=['object']).columns\n",
        "oversampled_data[text_columns] = oversampled_data[text_columns].fillna(\"unknown\")\n",
        "\n",
        "numeric_columns = oversampled_data.select_dtypes(include=['float64', 'int64']).columns\n",
        "for col in numeric_columns:\n",
        "    mode_val = oversampled_data[col].mode()[0]\n",
        "    oversampled_data[col].fillna(mode_val, inplace=True)"
      ],
      "metadata": {
        "id": "RlmDKQjfUGk6"
      },
      "execution_count": 20,
      "outputs": []
    },
    {
      "cell_type": "code",
      "source": [
        "label_encoders_combined = {}\n",
        "\n",
        "for col in categorical_columns_all:\n",
        "    le = LabelEncoder()\n",
        "    oversampled_data[col] = le.fit_transform(oversampled_data[col].astype(str))\n",
        "    label_encoders_combined[col] = le"
      ],
      "metadata": {
        "id": "H1b0dG1NVv_Q"
      },
      "execution_count": 21,
      "outputs": []
    },
    {
      "cell_type": "code",
      "source": [
        "os_combined_data_cleaned = oversampled_data.drop(columns=categorical_columns_all)\n",
        "os_final_combined_data = pd.concat([os_combined_data_cleaned, oversampled_data[categorical_columns_all]], axis=1)"
      ],
      "metadata": {
        "id": "UluzwNirUoRw"
      },
      "execution_count": 22,
      "outputs": []
    },
    {
      "cell_type": "code",
      "source": [
        "os_scaler = MinMaxScaler()\n",
        "os_scaled_data = os_scaler.fit_transform(os_final_combined_data.drop(columns='label'))\n",
        "os_final_combined_scaled_data = pd.DataFrame(os_scaled_data, columns=os_final_combined_data.drop(columns='label').columns)"
      ],
      "metadata": {
        "id": "5j6DM4f0UeIv"
      },
      "execution_count": 23,
      "outputs": []
    },
    {
      "cell_type": "code",
      "source": [
        "X_os = os_final_combined_scaled_data\n",
        "y_os = os_final_combined_data['label']\n",
        "\n",
        "X_os_train, X_os_test, y_os_train, y_os_test = train_test_split(X_os, y_os, test_size=0.2, random_state=42, stratify=y_os)"
      ],
      "metadata": {
        "id": "rSox85FbXIis"
      },
      "execution_count": 24,
      "outputs": []
    },
    {
      "cell_type": "markdown",
      "source": [
        "powielenie klas malware (0), na danych treningowych"
      ],
      "metadata": {
        "id": "DoaRRvtPWwxq"
      }
    },
    {
      "cell_type": "code",
      "source": [
        "malware_train_data = X_os_train[y_os_train == 1]\n",
        "\n",
        "num_samples_difference = len(X_os_train[y_os_train == 0]) - len(malware_train_data)\n",
        "oversampled_malware_train_data = malware_train_data.sample(num_samples_difference, replace=True, random_state=42)\n",
        "\n",
        "X_os_train_oversampled = pd.concat([X_os_train, oversampled_malware_train_data])\n",
        "y_os_train_oversampled = pd.concat([y_os_train, pd.Series([1] * num_samples_difference)])\n",
        "\n",
        "class_distribution_train = y_os_train_oversampled.value_counts()\n",
        "print(class_distribution_train)"
      ],
      "metadata": {
        "colab": {
          "base_uri": "https://localhost:8080/"
        },
        "id": "fe0jjkxGB__q",
        "outputId": "e2f83bda-3090-44b2-e3cd-0816b1a9ed88"
      },
      "execution_count": 25,
      "outputs": [
        {
          "output_type": "stream",
          "name": "stdout",
          "text": [
            "0    395308\n",
            "1    395308\n",
            "dtype: int64\n"
          ]
        }
      ]
    },
    {
      "cell_type": "code",
      "source": [
        "os_n_features = os_final_combined_scaled_data.shape[1]\n",
        "\n",
        "os_model = Sequential()\n",
        "os_model.add(Dense(128, activation='relu', input_shape=(os_n_features,)))\n",
        "os_model.add(Dropout(0.5))\n",
        "os_model.add(Dense(64, activation='relu'))\n",
        "os_model.add(Dropout(0.5))\n",
        "os_model.add(Dense(1, activation='sigmoid'))"
      ],
      "metadata": {
        "id": "g5yJcUatsMOb"
      },
      "execution_count": 26,
      "outputs": []
    },
    {
      "cell_type": "code",
      "source": [
        "os_model.compile(optimizer='adam', loss='binary_crossentropy', metrics=[Recall()])"
      ],
      "metadata": {
        "id": "hid_y3g1sN2-"
      },
      "execution_count": 27,
      "outputs": []
    },
    {
      "cell_type": "code",
      "source": [
        "os_history = os_model.fit(X_os_train_oversampled, y_os_train_oversampled, epochs=10, batch_size=32)"
      ],
      "metadata": {
        "colab": {
          "base_uri": "https://localhost:8080/"
        },
        "id": "mzcKCJmFsPfQ",
        "outputId": "09d77d5d-3f91-4d6b-a594-f6c3de86f1d7"
      },
      "execution_count": 28,
      "outputs": [
        {
          "output_type": "stream",
          "name": "stdout",
          "text": [
            "Epoch 1/10\n",
            "24707/24707 [==============================] - 54s 2ms/step - loss: 0.3246 - recall: 0.8915\n",
            "Epoch 2/10\n",
            "24707/24707 [==============================] - 51s 2ms/step - loss: 0.2761 - recall: 0.9251\n",
            "Epoch 3/10\n",
            "24707/24707 [==============================] - 53s 2ms/step - loss: 0.2644 - recall: 0.9298\n",
            "Epoch 4/10\n",
            "24707/24707 [==============================] - 52s 2ms/step - loss: 0.2566 - recall: 0.9334\n",
            "Epoch 5/10\n",
            "24707/24707 [==============================] - 52s 2ms/step - loss: 0.2512 - recall: 0.9353\n",
            "Epoch 6/10\n",
            "24707/24707 [==============================] - 52s 2ms/step - loss: 0.2476 - recall: 0.9373\n",
            "Epoch 7/10\n",
            "24707/24707 [==============================] - 51s 2ms/step - loss: 0.2438 - recall: 0.9384\n",
            "Epoch 8/10\n",
            "24707/24707 [==============================] - 53s 2ms/step - loss: 0.2410 - recall: 0.9395\n",
            "Epoch 9/10\n",
            "24707/24707 [==============================] - 52s 2ms/step - loss: 0.2374 - recall: 0.9402\n",
            "Epoch 10/10\n",
            "24707/24707 [==============================] - 52s 2ms/step - loss: 0.2350 - recall: 0.9415\n"
          ]
        }
      ]
    },
    {
      "cell_type": "code",
      "source": [
        "os_predictions = os_model.predict(X_os_test)"
      ],
      "metadata": {
        "colab": {
          "base_uri": "https://localhost:8080/"
        },
        "id": "awi8poJTshBS",
        "outputId": "1472d2df-9805-4562-a236-696bb362083e"
      },
      "execution_count": 29,
      "outputs": [
        {
          "output_type": "stream",
          "name": "stdout",
          "text": [
            "3120/3120 [==============================] - 4s 1ms/step\n"
          ]
        }
      ]
    },
    {
      "cell_type": "code",
      "source": [
        "os_binary_predictions = (os_predictions > 0.5).astype(int)"
      ],
      "metadata": {
        "id": "WXQ4MSW1srjw"
      },
      "execution_count": 30,
      "outputs": []
    },
    {
      "cell_type": "markdown",
      "source": [
        "## 5. Metryki ewaluacji modelu"
      ],
      "metadata": {
        "id": "ki2c8b1PXVTv"
      }
    },
    {
      "cell_type": "code",
      "source": [
        "accuracy = accuracy_score(y_os_test, os_binary_predictions)\n",
        "print(f\"accuracy {accuracy} \")\n",
        "\n",
        "precision = precision_score(y_os_test, os_binary_predictions)\n",
        "print(f\"precision {precision} \")\n",
        "\n",
        "recall = recall_score(y_os_test, os_binary_predictions)\n",
        "print(f\"recall {recall} \")\n",
        "\n",
        "f1 = f1_score(y_os_test, os_binary_predictions)\n",
        "print(f\"f1 {f1} \")\n",
        "\n",
        "conf_matrix = confusion_matrix(y_os_test, os_binary_predictions)\n",
        "print(f\"conf_matrix {conf_matrix} \")"
      ],
      "metadata": {
        "colab": {
          "base_uri": "https://localhost:8080/"
        },
        "id": "CfUaUPldskVx",
        "outputId": "49a8f7ca-b1d8-42a3-aae6-c64c6a7f9976"
      },
      "execution_count": 31,
      "outputs": [
        {
          "output_type": "stream",
          "name": "stdout",
          "text": [
            "accuracy 0.8796718322698268 \n",
            "precision 0.07205036530390176 \n",
            "recall 0.927 \n",
            "f1 0.1337083513630463 \n",
            "conf_matrix [[86888 11939]\n",
            " [   73   927]] \n"
          ]
        }
      ]
    },
    {
      "cell_type": "markdown",
      "source": [
        "### Teraz otrzymaliśmy dużo lepsze wyniki ponieważ pomimo małej starty w accuracy i ogromnej w precision, otrzymaliśmy już zadawalające wyniki na wykrywanie wirusów recall (94%) która w tym problemie jest dużo ważniejszą statystyką."
      ],
      "metadata": {
        "id": "h7zJecwzvcRW"
      }
    },
    {
      "cell_type": "markdown",
      "source": [
        "## 6. Możemy wyciągnąć wnioski na bazie następujących metryk:\n",
        "*   Accuracy - około 86% wszystkich przypadków zostanie poprawnie sklasyfikowanych\n",
        "*  Precision - Mówi nam o tym że tylko z wszystkich przypadków skalyfikowanym jako malware tylko 7% faktycznie była malware. Jest to trade off który został podjęty w związku z wysoką różnicą dystrybucji klas. W związku tym nasz model często będzie zwracał fałszywy alarm jednak w naszym przypadku jest to konieczne aby rzadko występujący wirus napewno się nie przedostał w naszeym problemie\n",
        "*  Recall - Najważniejsza statystyka w naszym problemie. Model poprawnie identyfikuje 94% rzeczywistych przypadków malware. Jest to bardzo wysoki wynik, co jest kluczowe w kontekście wykrywania malware.\n",
        "* F1-score - Mówi nam o słabej średniej harmonicznej między precission a recall\n",
        "\n"
      ],
      "metadata": {
        "id": "ds-zhAevS1N9"
      }
    },
    {
      "cell_type": "markdown",
      "source": [
        "model prawdopodobnie będzie skutecznie wykrywał malware w danych produkcyjnych, ale może generować dużą liczbę fałszywych alarmów. Aby zminimalizować wpływ fałszywych alarmów,można rozważyć zmianę progu klasyfikacji. Jednak wszystko zależy od kontekstu zastosowania aplikacji, jeżeli ma dawać nam jedynie sygnały że coś jest niepokojącego warto jak najbarzdiej zwiększyć recall. Jeżeli ma jednak faktycznie blokować np. requesty warto jednak zwiększyć precision zmieniając np próg klasyfikacji na większy"
      ],
      "metadata": {
        "id": "Ur6OCR6AVI3I"
      }
    },
    {
      "cell_type": "markdown",
      "source": [
        "## 3. Zbuduj pipeline przygotowujący dane do treningu / predykcji - jest to dla mnie nowy temat w prównaniu do powyżych rzeczy z którymi spotkałem się na studiach/projektach. Dlatego chciałbym go zrobić \"obok\" aby ewentualny błąd kardynalny tutaj nie wpłynął na ewentualną możliwość zatrudnienia ;)"
      ],
      "metadata": {
        "id": "ON08aXhpYS0W"
      }
    },
    {
      "cell_type": "code",
      "source": [
        "benign_data = pd.read_csv(path_nb+'/CSV_benign.csv')\n",
        "malware_data = pd.read_csv(path_nb+'/CSV_malware.csv')\n",
        "\n",
        "benign_data['label'] = 0\n",
        "malware_data['label'] = 1\n",
        "\n",
        "combined_data = pd.concat([benign_data, malware_data], ignore_index=True)\n",
        "\n",
        "categorical_features = combined_data.select_dtypes(include=['object']).columns.tolist()\n",
        "numeric_features = combined_data.select_dtypes(exclude=['object']).columns.tolist()"
      ],
      "metadata": {
        "colab": {
          "base_uri": "https://localhost:8080/"
        },
        "id": "ugXM8XfCcshU",
        "outputId": "3fb4acc7-9205-45cb-8a48-8a66092fe0d3"
      },
      "execution_count": 32,
      "outputs": [
        {
          "output_type": "stream",
          "name": "stderr",
          "text": [
            "<ipython-input-32-d27b0dfc1111>:1: DtypeWarning: Columns (9,10,12,13,17,18,20,21,24,25,27,28,36) have mixed types. Specify dtype option on import or set low_memory=False.\n",
            "  benign_data = pd.read_csv(path_nb+'/CSV_benign.csv')\n"
          ]
        }
      ]
    },
    {
      "cell_type": "code",
      "source": [
        "categorical_transformer = Pipeline(\n",
        "    [\n",
        "        ('imputer_cat', SimpleImputer(strategy='constant', fill_value='unknown')),\n",
        "        ('ordinalencoder', OrdinalEncoder())\n",
        "    ]\n",
        ")"
      ],
      "metadata": {
        "id": "eqzdw7NVcRBV"
      },
      "execution_count": 33,
      "outputs": []
    },
    {
      "cell_type": "code",
      "source": [
        "numeric_transformer = Pipeline(\n",
        "    [\n",
        "        ('imputer_num', SimpleImputer(strategy='most_frequent')),\n",
        "        ('scaler', StandardScaler())\n",
        "    ]\n",
        ")"
      ],
      "metadata": {
        "id": "cDoefbemcS60"
      },
      "execution_count": 34,
      "outputs": []
    },
    {
      "cell_type": "code",
      "source": [
        "preprocessor = ColumnTransformer(\n",
        "    [\n",
        "        ('categoricals', categorical_transformer, categorical_features),\n",
        "        ('numericals', numeric_transformer, numeric_features)\n",
        "    ],\n",
        "    remainder='drop'\n",
        ")"
      ],
      "metadata": {
        "id": "_aCGAlCCcVgZ"
      },
      "execution_count": 35,
      "outputs": []
    },
    {
      "cell_type": "code",
      "source": [
        "pipeline = Pipeline(\n",
        "    [\n",
        "        ('preprocessing', preprocessor)\n",
        "    ]\n",
        ")"
      ],
      "metadata": {
        "id": "b4Y5u8EHcaQY"
      },
      "execution_count": 36,
      "outputs": []
    },
    {
      "cell_type": "code",
      "source": [
        "for col in categorical_features:\n",
        "    combined_data[col] = combined_data[col].astype(str)"
      ],
      "metadata": {
        "id": "OTyZDXyqjuKG"
      },
      "execution_count": 37,
      "outputs": []
    },
    {
      "cell_type": "code",
      "source": [
        "pipeline_data = pipeline.fit_transform(combined_data)"
      ],
      "metadata": {
        "id": "lOg45gXwdcD4"
      },
      "execution_count": 38,
      "outputs": []
    },
    {
      "cell_type": "code",
      "source": [
        "df_pipeline_data = pd.DataFrame(pipeline_data, columns=combined_data.columns)\n",
        "df_pipeline_data.head(5)"
      ],
      "metadata": {
        "colab": {
          "base_uri": "https://localhost:8080/",
          "height": 236
        },
        "id": "KFnPcrLyj4ys",
        "outputId": "d17b2374-5f06-453c-bdec-7cdf0a816211"
      },
      "execution_count": 39,
      "outputs": [
        {
          "output_type": "execute_result",
          "data": {
            "text/plain": [
              "   Country      ASN       TTL        IP  Domain   State  Registrant_Name  \\\n",
              "0    273.0   8730.0   68746.0   86645.0   776.0  4125.0            414.0   \n",
              "1    284.0   7291.0  177854.0   86645.0   776.0  4125.0            414.0   \n",
              "2    284.0   8130.0  177854.0  257909.0  5436.0  4125.0           1597.0   \n",
              "3    273.0   7291.0   68762.0  257909.0  5436.0  4125.0           1597.0   \n",
              "4    284.0  12262.0  177854.0   72075.0   776.0  4125.0            414.0   \n",
              "\n",
              "   Country.1  Creation_Date_Time  hex_32  ...  typos     oc_8    3gram  \\\n",
              "0     2653.0                 0.0     0.0  ...    0.0  76590.0  52423.0   \n",
              "1     2653.0                 0.0     0.0  ...    0.0  76590.0  52423.0   \n",
              "2     2653.0                 0.0     0.0  ...    0.0  76590.0  53193.0   \n",
              "3   145658.0                 0.0     0.0  ...    0.0  76590.0  53193.0   \n",
              "4     2235.0                 0.0     0.0  ...    0.0  63695.0  32310.0   \n",
              "\n",
              "   char_distribution    2gram  Registrar      sld  Name_Server_Count  \\\n",
              "0            76869.0   1790.0    64628.0   1088.0          -0.331992   \n",
              "1            76869.0   1790.0    64628.0   1088.0          -0.370479   \n",
              "2            76869.0   1789.0    64628.0    649.0          -0.370479   \n",
              "3            76869.0  17052.0    64628.0  30626.0          -0.331992   \n",
              "4            63945.0   2306.0    53691.0    649.0          -0.370479   \n",
              "\n",
              "   Page_Rank     label  \n",
              "0  -0.440166 -0.100582  \n",
              "1  -0.440166 -0.100582  \n",
              "2  -0.440166 -0.100582  \n",
              "3  -0.440166 -0.100582  \n",
              "4  -0.440166 -0.100582  \n",
              "\n",
              "[5 rows x 39 columns]"
            ],
            "text/html": [
              "\n",
              "  <div id=\"df-bf4f4290-540d-4a3a-a093-bada0217f4b7\" class=\"colab-df-container\">\n",
              "    <div>\n",
              "<style scoped>\n",
              "    .dataframe tbody tr th:only-of-type {\n",
              "        vertical-align: middle;\n",
              "    }\n",
              "\n",
              "    .dataframe tbody tr th {\n",
              "        vertical-align: top;\n",
              "    }\n",
              "\n",
              "    .dataframe thead th {\n",
              "        text-align: right;\n",
              "    }\n",
              "</style>\n",
              "<table border=\"1\" class=\"dataframe\">\n",
              "  <thead>\n",
              "    <tr style=\"text-align: right;\">\n",
              "      <th></th>\n",
              "      <th>Country</th>\n",
              "      <th>ASN</th>\n",
              "      <th>TTL</th>\n",
              "      <th>IP</th>\n",
              "      <th>Domain</th>\n",
              "      <th>State</th>\n",
              "      <th>Registrant_Name</th>\n",
              "      <th>Country.1</th>\n",
              "      <th>Creation_Date_Time</th>\n",
              "      <th>hex_32</th>\n",
              "      <th>...</th>\n",
              "      <th>typos</th>\n",
              "      <th>oc_8</th>\n",
              "      <th>3gram</th>\n",
              "      <th>char_distribution</th>\n",
              "      <th>2gram</th>\n",
              "      <th>Registrar</th>\n",
              "      <th>sld</th>\n",
              "      <th>Name_Server_Count</th>\n",
              "      <th>Page_Rank</th>\n",
              "      <th>label</th>\n",
              "    </tr>\n",
              "  </thead>\n",
              "  <tbody>\n",
              "    <tr>\n",
              "      <th>0</th>\n",
              "      <td>273.0</td>\n",
              "      <td>8730.0</td>\n",
              "      <td>68746.0</td>\n",
              "      <td>86645.0</td>\n",
              "      <td>776.0</td>\n",
              "      <td>4125.0</td>\n",
              "      <td>414.0</td>\n",
              "      <td>2653.0</td>\n",
              "      <td>0.0</td>\n",
              "      <td>0.0</td>\n",
              "      <td>...</td>\n",
              "      <td>0.0</td>\n",
              "      <td>76590.0</td>\n",
              "      <td>52423.0</td>\n",
              "      <td>76869.0</td>\n",
              "      <td>1790.0</td>\n",
              "      <td>64628.0</td>\n",
              "      <td>1088.0</td>\n",
              "      <td>-0.331992</td>\n",
              "      <td>-0.440166</td>\n",
              "      <td>-0.100582</td>\n",
              "    </tr>\n",
              "    <tr>\n",
              "      <th>1</th>\n",
              "      <td>284.0</td>\n",
              "      <td>7291.0</td>\n",
              "      <td>177854.0</td>\n",
              "      <td>86645.0</td>\n",
              "      <td>776.0</td>\n",
              "      <td>4125.0</td>\n",
              "      <td>414.0</td>\n",
              "      <td>2653.0</td>\n",
              "      <td>0.0</td>\n",
              "      <td>0.0</td>\n",
              "      <td>...</td>\n",
              "      <td>0.0</td>\n",
              "      <td>76590.0</td>\n",
              "      <td>52423.0</td>\n",
              "      <td>76869.0</td>\n",
              "      <td>1790.0</td>\n",
              "      <td>64628.0</td>\n",
              "      <td>1088.0</td>\n",
              "      <td>-0.370479</td>\n",
              "      <td>-0.440166</td>\n",
              "      <td>-0.100582</td>\n",
              "    </tr>\n",
              "    <tr>\n",
              "      <th>2</th>\n",
              "      <td>284.0</td>\n",
              "      <td>8130.0</td>\n",
              "      <td>177854.0</td>\n",
              "      <td>257909.0</td>\n",
              "      <td>5436.0</td>\n",
              "      <td>4125.0</td>\n",
              "      <td>1597.0</td>\n",
              "      <td>2653.0</td>\n",
              "      <td>0.0</td>\n",
              "      <td>0.0</td>\n",
              "      <td>...</td>\n",
              "      <td>0.0</td>\n",
              "      <td>76590.0</td>\n",
              "      <td>53193.0</td>\n",
              "      <td>76869.0</td>\n",
              "      <td>1789.0</td>\n",
              "      <td>64628.0</td>\n",
              "      <td>649.0</td>\n",
              "      <td>-0.370479</td>\n",
              "      <td>-0.440166</td>\n",
              "      <td>-0.100582</td>\n",
              "    </tr>\n",
              "    <tr>\n",
              "      <th>3</th>\n",
              "      <td>273.0</td>\n",
              "      <td>7291.0</td>\n",
              "      <td>68762.0</td>\n",
              "      <td>257909.0</td>\n",
              "      <td>5436.0</td>\n",
              "      <td>4125.0</td>\n",
              "      <td>1597.0</td>\n",
              "      <td>145658.0</td>\n",
              "      <td>0.0</td>\n",
              "      <td>0.0</td>\n",
              "      <td>...</td>\n",
              "      <td>0.0</td>\n",
              "      <td>76590.0</td>\n",
              "      <td>53193.0</td>\n",
              "      <td>76869.0</td>\n",
              "      <td>17052.0</td>\n",
              "      <td>64628.0</td>\n",
              "      <td>30626.0</td>\n",
              "      <td>-0.331992</td>\n",
              "      <td>-0.440166</td>\n",
              "      <td>-0.100582</td>\n",
              "    </tr>\n",
              "    <tr>\n",
              "      <th>4</th>\n",
              "      <td>284.0</td>\n",
              "      <td>12262.0</td>\n",
              "      <td>177854.0</td>\n",
              "      <td>72075.0</td>\n",
              "      <td>776.0</td>\n",
              "      <td>4125.0</td>\n",
              "      <td>414.0</td>\n",
              "      <td>2235.0</td>\n",
              "      <td>0.0</td>\n",
              "      <td>0.0</td>\n",
              "      <td>...</td>\n",
              "      <td>0.0</td>\n",
              "      <td>63695.0</td>\n",
              "      <td>32310.0</td>\n",
              "      <td>63945.0</td>\n",
              "      <td>2306.0</td>\n",
              "      <td>53691.0</td>\n",
              "      <td>649.0</td>\n",
              "      <td>-0.370479</td>\n",
              "      <td>-0.440166</td>\n",
              "      <td>-0.100582</td>\n",
              "    </tr>\n",
              "  </tbody>\n",
              "</table>\n",
              "<p>5 rows × 39 columns</p>\n",
              "</div>\n",
              "    <div class=\"colab-df-buttons\">\n",
              "\n",
              "  <div class=\"colab-df-container\">\n",
              "    <button class=\"colab-df-convert\" onclick=\"convertToInteractive('df-bf4f4290-540d-4a3a-a093-bada0217f4b7')\"\n",
              "            title=\"Convert this dataframe to an interactive table.\"\n",
              "            style=\"display:none;\">\n",
              "\n",
              "  <svg xmlns=\"http://www.w3.org/2000/svg\" height=\"24px\" viewBox=\"0 -960 960 960\">\n",
              "    <path d=\"M120-120v-720h720v720H120Zm60-500h600v-160H180v160Zm220 220h160v-160H400v160Zm0 220h160v-160H400v160ZM180-400h160v-160H180v160Zm440 0h160v-160H620v160ZM180-180h160v-160H180v160Zm440 0h160v-160H620v160Z\"/>\n",
              "  </svg>\n",
              "    </button>\n",
              "\n",
              "  <style>\n",
              "    .colab-df-container {\n",
              "      display:flex;\n",
              "      gap: 12px;\n",
              "    }\n",
              "\n",
              "    .colab-df-convert {\n",
              "      background-color: #E8F0FE;\n",
              "      border: none;\n",
              "      border-radius: 50%;\n",
              "      cursor: pointer;\n",
              "      display: none;\n",
              "      fill: #1967D2;\n",
              "      height: 32px;\n",
              "      padding: 0 0 0 0;\n",
              "      width: 32px;\n",
              "    }\n",
              "\n",
              "    .colab-df-convert:hover {\n",
              "      background-color: #E2EBFA;\n",
              "      box-shadow: 0px 1px 2px rgba(60, 64, 67, 0.3), 0px 1px 3px 1px rgba(60, 64, 67, 0.15);\n",
              "      fill: #174EA6;\n",
              "    }\n",
              "\n",
              "    .colab-df-buttons div {\n",
              "      margin-bottom: 4px;\n",
              "    }\n",
              "\n",
              "    [theme=dark] .colab-df-convert {\n",
              "      background-color: #3B4455;\n",
              "      fill: #D2E3FC;\n",
              "    }\n",
              "\n",
              "    [theme=dark] .colab-df-convert:hover {\n",
              "      background-color: #434B5C;\n",
              "      box-shadow: 0px 1px 3px 1px rgba(0, 0, 0, 0.15);\n",
              "      filter: drop-shadow(0px 1px 2px rgba(0, 0, 0, 0.3));\n",
              "      fill: #FFFFFF;\n",
              "    }\n",
              "  </style>\n",
              "\n",
              "    <script>\n",
              "      const buttonEl =\n",
              "        document.querySelector('#df-bf4f4290-540d-4a3a-a093-bada0217f4b7 button.colab-df-convert');\n",
              "      buttonEl.style.display =\n",
              "        google.colab.kernel.accessAllowed ? 'block' : 'none';\n",
              "\n",
              "      async function convertToInteractive(key) {\n",
              "        const element = document.querySelector('#df-bf4f4290-540d-4a3a-a093-bada0217f4b7');\n",
              "        const dataTable =\n",
              "          await google.colab.kernel.invokeFunction('convertToInteractive',\n",
              "                                                    [key], {});\n",
              "        if (!dataTable) return;\n",
              "\n",
              "        const docLinkHtml = 'Like what you see? Visit the ' +\n",
              "          '<a target=\"_blank\" href=https://colab.research.google.com/notebooks/data_table.ipynb>data table notebook</a>'\n",
              "          + ' to learn more about interactive tables.';\n",
              "        element.innerHTML = '';\n",
              "        dataTable['output_type'] = 'display_data';\n",
              "        await google.colab.output.renderOutput(dataTable, element);\n",
              "        const docLink = document.createElement('div');\n",
              "        docLink.innerHTML = docLinkHtml;\n",
              "        element.appendChild(docLink);\n",
              "      }\n",
              "    </script>\n",
              "  </div>\n",
              "\n",
              "\n",
              "<div id=\"df-edfea07f-6cae-4dae-a59e-6f926b069d69\">\n",
              "  <button class=\"colab-df-quickchart\" onclick=\"quickchart('df-edfea07f-6cae-4dae-a59e-6f926b069d69')\"\n",
              "            title=\"Suggest charts.\"\n",
              "            style=\"display:none;\">\n",
              "\n",
              "<svg xmlns=\"http://www.w3.org/2000/svg\" height=\"24px\"viewBox=\"0 0 24 24\"\n",
              "     width=\"24px\">\n",
              "    <g>\n",
              "        <path d=\"M19 3H5c-1.1 0-2 .9-2 2v14c0 1.1.9 2 2 2h14c1.1 0 2-.9 2-2V5c0-1.1-.9-2-2-2zM9 17H7v-7h2v7zm4 0h-2V7h2v10zm4 0h-2v-4h2v4z\"/>\n",
              "    </g>\n",
              "</svg>\n",
              "  </button>\n",
              "\n",
              "<style>\n",
              "  .colab-df-quickchart {\n",
              "      --bg-color: #E8F0FE;\n",
              "      --fill-color: #1967D2;\n",
              "      --hover-bg-color: #E2EBFA;\n",
              "      --hover-fill-color: #174EA6;\n",
              "      --disabled-fill-color: #AAA;\n",
              "      --disabled-bg-color: #DDD;\n",
              "  }\n",
              "\n",
              "  [theme=dark] .colab-df-quickchart {\n",
              "      --bg-color: #3B4455;\n",
              "      --fill-color: #D2E3FC;\n",
              "      --hover-bg-color: #434B5C;\n",
              "      --hover-fill-color: #FFFFFF;\n",
              "      --disabled-bg-color: #3B4455;\n",
              "      --disabled-fill-color: #666;\n",
              "  }\n",
              "\n",
              "  .colab-df-quickchart {\n",
              "    background-color: var(--bg-color);\n",
              "    border: none;\n",
              "    border-radius: 50%;\n",
              "    cursor: pointer;\n",
              "    display: none;\n",
              "    fill: var(--fill-color);\n",
              "    height: 32px;\n",
              "    padding: 0;\n",
              "    width: 32px;\n",
              "  }\n",
              "\n",
              "  .colab-df-quickchart:hover {\n",
              "    background-color: var(--hover-bg-color);\n",
              "    box-shadow: 0 1px 2px rgba(60, 64, 67, 0.3), 0 1px 3px 1px rgba(60, 64, 67, 0.15);\n",
              "    fill: var(--button-hover-fill-color);\n",
              "  }\n",
              "\n",
              "  .colab-df-quickchart-complete:disabled,\n",
              "  .colab-df-quickchart-complete:disabled:hover {\n",
              "    background-color: var(--disabled-bg-color);\n",
              "    fill: var(--disabled-fill-color);\n",
              "    box-shadow: none;\n",
              "  }\n",
              "\n",
              "  .colab-df-spinner {\n",
              "    border: 2px solid var(--fill-color);\n",
              "    border-color: transparent;\n",
              "    border-bottom-color: var(--fill-color);\n",
              "    animation:\n",
              "      spin 1s steps(1) infinite;\n",
              "  }\n",
              "\n",
              "  @keyframes spin {\n",
              "    0% {\n",
              "      border-color: transparent;\n",
              "      border-bottom-color: var(--fill-color);\n",
              "      border-left-color: var(--fill-color);\n",
              "    }\n",
              "    20% {\n",
              "      border-color: transparent;\n",
              "      border-left-color: var(--fill-color);\n",
              "      border-top-color: var(--fill-color);\n",
              "    }\n",
              "    30% {\n",
              "      border-color: transparent;\n",
              "      border-left-color: var(--fill-color);\n",
              "      border-top-color: var(--fill-color);\n",
              "      border-right-color: var(--fill-color);\n",
              "    }\n",
              "    40% {\n",
              "      border-color: transparent;\n",
              "      border-right-color: var(--fill-color);\n",
              "      border-top-color: var(--fill-color);\n",
              "    }\n",
              "    60% {\n",
              "      border-color: transparent;\n",
              "      border-right-color: var(--fill-color);\n",
              "    }\n",
              "    80% {\n",
              "      border-color: transparent;\n",
              "      border-right-color: var(--fill-color);\n",
              "      border-bottom-color: var(--fill-color);\n",
              "    }\n",
              "    90% {\n",
              "      border-color: transparent;\n",
              "      border-bottom-color: var(--fill-color);\n",
              "    }\n",
              "  }\n",
              "</style>\n",
              "\n",
              "  <script>\n",
              "    async function quickchart(key) {\n",
              "      const quickchartButtonEl =\n",
              "        document.querySelector('#' + key + ' button');\n",
              "      quickchartButtonEl.disabled = true;  // To prevent multiple clicks.\n",
              "      quickchartButtonEl.classList.add('colab-df-spinner');\n",
              "      try {\n",
              "        const charts = await google.colab.kernel.invokeFunction(\n",
              "            'suggestCharts', [key], {});\n",
              "      } catch (error) {\n",
              "        console.error('Error during call to suggestCharts:', error);\n",
              "      }\n",
              "      quickchartButtonEl.classList.remove('colab-df-spinner');\n",
              "      quickchartButtonEl.classList.add('colab-df-quickchart-complete');\n",
              "    }\n",
              "    (() => {\n",
              "      let quickchartButtonEl =\n",
              "        document.querySelector('#df-edfea07f-6cae-4dae-a59e-6f926b069d69 button');\n",
              "      quickchartButtonEl.style.display =\n",
              "        google.colab.kernel.accessAllowed ? 'block' : 'none';\n",
              "    })();\n",
              "  </script>\n",
              "</div>\n",
              "    </div>\n",
              "  </div>\n"
            ]
          },
          "metadata": {},
          "execution_count": 39
        }
      ]
    }
  ]
}